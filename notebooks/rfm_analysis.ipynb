{
 "cells": [
  {
   "cell_type": "code",
   "execution_count": 24,
   "execution_state": "idle",
   "id": "2aa78c98-5fab-40ff-a981-72d9858aa0d9",
   "metadata": {
    "execution": {
     "iopub.execute_input": "2025-10-04T23:00:22.899194Z",
     "iopub.status.busy": "2025-10-04T23:00:22.898898Z",
     "iopub.status.idle": "2025-10-04T23:00:23.725325Z",
     "shell.execute_reply": "2025-10-04T23:00:23.723113Z",
     "shell.execute_reply.started": "2025-10-04T23:00:22.899170Z"
    }
   },
   "outputs": [
    {
     "name": "stdout",
     "output_type": "stream",
     "text": [
      "Data loaded successfully!\n",
      "(541909, 8)\n"
     ]
    },
    {
     "data": {
      "text/html": [
       "<div>\n",
       "<style scoped>\n",
       "    .dataframe tbody tr th:only-of-type {\n",
       "        vertical-align: middle;\n",
       "    }\n",
       "\n",
       "    .dataframe tbody tr th {\n",
       "        vertical-align: top;\n",
       "    }\n",
       "\n",
       "    .dataframe thead th {\n",
       "        text-align: right;\n",
       "    }\n",
       "</style>\n",
       "<table border=\"1\" class=\"dataframe\">\n",
       "  <thead>\n",
       "    <tr style=\"text-align: right;\">\n",
       "      <th></th>\n",
       "      <th>InvoiceNo</th>\n",
       "      <th>StockCode</th>\n",
       "      <th>Description</th>\n",
       "      <th>Quantity</th>\n",
       "      <th>InvoiceDate</th>\n",
       "      <th>UnitPrice</th>\n",
       "      <th>CustomerID</th>\n",
       "      <th>Country</th>\n",
       "    </tr>\n",
       "  </thead>\n",
       "  <tbody>\n",
       "    <tr>\n",
       "      <th>0</th>\n",
       "      <td>536365</td>\n",
       "      <td>85123A</td>\n",
       "      <td>WHITE HANGING HEART T-LIGHT HOLDER</td>\n",
       "      <td>6</td>\n",
       "      <td>12/1/10 8:26</td>\n",
       "      <td>2.55</td>\n",
       "      <td>17850.0</td>\n",
       "      <td>United Kingdom</td>\n",
       "    </tr>\n",
       "    <tr>\n",
       "      <th>1</th>\n",
       "      <td>536365</td>\n",
       "      <td>71053</td>\n",
       "      <td>WHITE METAL LANTERN</td>\n",
       "      <td>6</td>\n",
       "      <td>12/1/10 8:26</td>\n",
       "      <td>3.39</td>\n",
       "      <td>17850.0</td>\n",
       "      <td>United Kingdom</td>\n",
       "    </tr>\n",
       "    <tr>\n",
       "      <th>2</th>\n",
       "      <td>536365</td>\n",
       "      <td>84406B</td>\n",
       "      <td>CREAM CUPID HEARTS COAT HANGER</td>\n",
       "      <td>8</td>\n",
       "      <td>12/1/10 8:26</td>\n",
       "      <td>2.75</td>\n",
       "      <td>17850.0</td>\n",
       "      <td>United Kingdom</td>\n",
       "    </tr>\n",
       "    <tr>\n",
       "      <th>3</th>\n",
       "      <td>536365</td>\n",
       "      <td>84029G</td>\n",
       "      <td>KNITTED UNION FLAG HOT WATER BOTTLE</td>\n",
       "      <td>6</td>\n",
       "      <td>12/1/10 8:26</td>\n",
       "      <td>3.39</td>\n",
       "      <td>17850.0</td>\n",
       "      <td>United Kingdom</td>\n",
       "    </tr>\n",
       "    <tr>\n",
       "      <th>4</th>\n",
       "      <td>536365</td>\n",
       "      <td>84029E</td>\n",
       "      <td>RED WOOLLY HOTTIE WHITE HEART.</td>\n",
       "      <td>6</td>\n",
       "      <td>12/1/10 8:26</td>\n",
       "      <td>3.39</td>\n",
       "      <td>17850.0</td>\n",
       "      <td>United Kingdom</td>\n",
       "    </tr>\n",
       "  </tbody>\n",
       "</table>\n",
       "</div>"
      ],
      "text/plain": [
       "  InvoiceNo StockCode                          Description  Quantity  \\\n",
       "0    536365    85123A   WHITE HANGING HEART T-LIGHT HOLDER         6   \n",
       "1    536365     71053                  WHITE METAL LANTERN         6   \n",
       "2    536365    84406B       CREAM CUPID HEARTS COAT HANGER         8   \n",
       "3    536365    84029G  KNITTED UNION FLAG HOT WATER BOTTLE         6   \n",
       "4    536365    84029E       RED WOOLLY HOTTIE WHITE HEART.         6   \n",
       "\n",
       "    InvoiceDate  UnitPrice  CustomerID         Country  \n",
       "0  12/1/10 8:26       2.55     17850.0  United Kingdom  \n",
       "1  12/1/10 8:26       3.39     17850.0  United Kingdom  \n",
       "2  12/1/10 8:26       2.75     17850.0  United Kingdom  \n",
       "3  12/1/10 8:26       3.39     17850.0  United Kingdom  \n",
       "4  12/1/10 8:26       3.39     17850.0  United Kingdom  "
      ]
     },
     "execution_count": 24,
     "metadata": {},
     "output_type": "execute_result"
    }
   ],
   "source": [
    "import pandas as pd\n",
    "\n",
    "# path relative to notebook\n",
    "df = pd.read_csv(\"data/retail_dataset.csv\")\n",
    "\n",
    "print(\"Data loaded successfully!\")\n",
    "print(df.shape)\n",
    "df.head()"
   ]
  },
  {
   "cell_type": "code",
   "execution_count": 25,
   "execution_state": "idle",
   "id": "749b9912-5f60-482e-a112-468d7b256ef7",
   "metadata": {
    "execution": {
     "iopub.execute_input": "2025-10-04T23:00:26.429728Z",
     "iopub.status.busy": "2025-10-04T23:00:26.429287Z",
     "iopub.status.idle": "2025-10-04T23:00:26.752973Z",
     "shell.execute_reply": "2025-10-04T23:00:26.751855Z",
     "shell.execute_reply.started": "2025-10-04T23:00:26.429692Z"
    }
   },
   "outputs": [
    {
     "name": "stdout",
     "output_type": "stream",
     "text": [
      "<class 'pandas.core.frame.DataFrame'>\n",
      "RangeIndex: 541909 entries, 0 to 541908\n",
      "Data columns (total 8 columns):\n",
      " #   Column       Non-Null Count   Dtype  \n",
      "---  ------       --------------   -----  \n",
      " 0   InvoiceNo    541909 non-null  object \n",
      " 1   StockCode    541909 non-null  object \n",
      " 2   Description  540455 non-null  object \n",
      " 3   Quantity     541909 non-null  int64  \n",
      " 4   InvoiceDate  541909 non-null  object \n",
      " 5   UnitPrice    541909 non-null  float64\n",
      " 6   CustomerID   406829 non-null  float64\n",
      " 7   Country      541909 non-null  object \n",
      "dtypes: float64(2), int64(1), object(5)\n",
      "memory usage: 33.1+ MB\n"
     ]
    },
    {
     "data": {
      "text/plain": [
       "InvoiceNo           0\n",
       "StockCode           0\n",
       "Description      1454\n",
       "Quantity            0\n",
       "InvoiceDate         0\n",
       "UnitPrice           0\n",
       "CustomerID     135080\n",
       "Country             0\n",
       "dtype: int64"
      ]
     },
     "execution_count": 25,
     "metadata": {},
     "output_type": "execute_result"
    }
   ],
   "source": [
    "df.info()\n",
    "df.describe()\n",
    "df.isnull().sum()"
   ]
  },
  {
   "cell_type": "code",
   "execution_count": 26,
   "execution_state": "idle",
   "id": "3c3d2258-069e-4ac8-ad04-d0b858fce2b3",
   "metadata": {
    "execution": {
     "iopub.execute_input": "2025-10-04T23:00:31.331258Z",
     "iopub.status.busy": "2025-10-04T23:00:31.330537Z",
     "iopub.status.idle": "2025-10-04T23:00:31.583396Z",
     "shell.execute_reply": "2025-10-04T23:00:31.582327Z",
     "shell.execute_reply.started": "2025-10-04T23:00:31.331190Z"
    }
   },
   "outputs": [
    {
     "name": "stdout",
     "output_type": "stream",
     "text": [
      "Missing CustomerIDs: 135080\n",
      "Null CustomerIDs removed.\n",
      "New shape: (406829, 8)\n"
     ]
    }
   ],
   "source": [
    "# Check missing CustomerIDs\n",
    "print(\"Missing CustomerIDs:\", df['CustomerID'].isnull().sum())\n",
    "\n",
    "# Drop missing CustomerIDs\n",
    "df = df.dropna(subset=['CustomerID'])\n",
    "\n",
    "# Convert CustomerID to string (so grouping works cleanly later)\n",
    "df['CustomerID'] = df['CustomerID'].astype(str)\n",
    "\n",
    "print(\"Null CustomerIDs removed.\")\n",
    "print(\"New shape:\", df.shape)"
   ]
  },
  {
   "cell_type": "code",
   "execution_count": 27,
   "execution_state": "idle",
   "id": "793bc80e-55c1-4fcb-ac5b-c714f270155e",
   "metadata": {
    "execution": {
     "iopub.execute_input": "2025-10-04T23:00:57.669331Z",
     "iopub.status.busy": "2025-10-04T23:00:57.669046Z",
     "iopub.status.idle": "2025-10-04T23:00:57.904504Z",
     "shell.execute_reply": "2025-10-04T23:00:57.903474Z",
     "shell.execute_reply.started": "2025-10-04T23:00:57.669310Z"
    }
   },
   "outputs": [
    {
     "name": "stdout",
     "output_type": "stream",
     "text": [
      "Removed cancelled or negative transactions.\n",
      "New shape: (397924, 8)\n"
     ]
    }
   ],
   "source": [
    "# Drop negative quantities\n",
    "df = df[df['Quantity'] > 0]\n",
    "\n",
    "# Drop invoices that start with 'C' (cancelled)\n",
    "df = df[~df['InvoiceNo'].astype(str).str.startswith('C')]\n",
    "\n",
    "print(\"Removed cancelled or negative transactions.\")\n",
    "print(\"New shape:\", df.shape)"
   ]
  },
  {
   "cell_type": "code",
   "execution_count": 28,
   "execution_state": "idle",
   "id": "a54ea018-b749-45a3-988b-8e0afdeef501",
   "metadata": {
    "execution": {
     "iopub.execute_input": "2025-10-04T23:01:15.660313Z",
     "iopub.status.busy": "2025-10-04T23:01:15.659699Z",
     "iopub.status.idle": "2025-10-04T23:01:15.704186Z",
     "shell.execute_reply": "2025-10-04T23:01:15.703415Z",
     "shell.execute_reply.started": "2025-10-04T23:01:15.660279Z"
    }
   },
   "outputs": [
    {
     "name": "stdout",
     "output_type": "stream",
     "text": [
      "Removed rows with non-positive prices.\n",
      "New shape: (397884, 8)\n"
     ]
    }
   ],
   "source": [
    "df = df[df['UnitPrice'] > 0]\n",
    "print(\"Removed rows with non-positive prices.\")\n",
    "print(\"New shape:\", df.shape)\n"
   ]
  },
  {
   "cell_type": "code",
   "execution_count": 30,
   "execution_state": "idle",
   "id": "0930f3fe-f211-4e40-9823-27b9ea498afc",
   "metadata": {
    "execution": {
     "iopub.execute_input": "2025-10-04T23:01:28.161889Z",
     "iopub.status.busy": "2025-10-04T23:01:28.161452Z",
     "iopub.status.idle": "2025-10-04T23:01:28.212714Z",
     "shell.execute_reply": "2025-10-04T23:01:28.211792Z",
     "shell.execute_reply.started": "2025-10-04T23:01:28.161861Z"
    }
   },
   "outputs": [
    {
     "name": "stdout",
     "output_type": "stream",
     "text": [
      "Converted InvoiceDate to datetime.\n",
      "datetime64[ns]\n"
     ]
    }
   ],
   "source": [
    "df['InvoiceDate'] = pd.to_datetime(df['InvoiceDate'], errors='coerce')\n",
    "\n",
    "print(\"Converted InvoiceDate to datetime.\")\n",
    "print(df['InvoiceDate'].dtypes)\n"
   ]
  },
  {
   "cell_type": "code",
   "execution_count": 31,
   "execution_state": "idle",
   "id": "fd969ed0-82b3-4703-8f65-16287db4024a",
   "metadata": {
    "execution": {
     "iopub.execute_input": "2025-10-04T23:01:37.552477Z",
     "iopub.status.busy": "2025-10-04T23:01:37.552101Z",
     "iopub.status.idle": "2025-10-04T23:01:37.572511Z",
     "shell.execute_reply": "2025-10-04T23:01:37.571343Z",
     "shell.execute_reply.started": "2025-10-04T23:01:37.552444Z"
    }
   },
   "outputs": [
    {
     "name": "stdout",
     "output_type": "stream",
     "text": [
      "Added TotalPrice column.\n"
     ]
    },
    {
     "data": {
      "text/html": [
       "<div>\n",
       "<style scoped>\n",
       "    .dataframe tbody tr th:only-of-type {\n",
       "        vertical-align: middle;\n",
       "    }\n",
       "\n",
       "    .dataframe tbody tr th {\n",
       "        vertical-align: top;\n",
       "    }\n",
       "\n",
       "    .dataframe thead th {\n",
       "        text-align: right;\n",
       "    }\n",
       "</style>\n",
       "<table border=\"1\" class=\"dataframe\">\n",
       "  <thead>\n",
       "    <tr style=\"text-align: right;\">\n",
       "      <th></th>\n",
       "      <th>InvoiceNo</th>\n",
       "      <th>StockCode</th>\n",
       "      <th>Description</th>\n",
       "      <th>Quantity</th>\n",
       "      <th>InvoiceDate</th>\n",
       "      <th>UnitPrice</th>\n",
       "      <th>CustomerID</th>\n",
       "      <th>Country</th>\n",
       "      <th>TotalPrice</th>\n",
       "    </tr>\n",
       "  </thead>\n",
       "  <tbody>\n",
       "    <tr>\n",
       "      <th>0</th>\n",
       "      <td>536365</td>\n",
       "      <td>85123A</td>\n",
       "      <td>WHITE HANGING HEART T-LIGHT HOLDER</td>\n",
       "      <td>6</td>\n",
       "      <td>2010-12-01 08:26:00</td>\n",
       "      <td>2.55</td>\n",
       "      <td>17850.0</td>\n",
       "      <td>United Kingdom</td>\n",
       "      <td>15.30</td>\n",
       "    </tr>\n",
       "    <tr>\n",
       "      <th>1</th>\n",
       "      <td>536365</td>\n",
       "      <td>71053</td>\n",
       "      <td>WHITE METAL LANTERN</td>\n",
       "      <td>6</td>\n",
       "      <td>2010-12-01 08:26:00</td>\n",
       "      <td>3.39</td>\n",
       "      <td>17850.0</td>\n",
       "      <td>United Kingdom</td>\n",
       "      <td>20.34</td>\n",
       "    </tr>\n",
       "    <tr>\n",
       "      <th>2</th>\n",
       "      <td>536365</td>\n",
       "      <td>84406B</td>\n",
       "      <td>CREAM CUPID HEARTS COAT HANGER</td>\n",
       "      <td>8</td>\n",
       "      <td>2010-12-01 08:26:00</td>\n",
       "      <td>2.75</td>\n",
       "      <td>17850.0</td>\n",
       "      <td>United Kingdom</td>\n",
       "      <td>22.00</td>\n",
       "    </tr>\n",
       "  </tbody>\n",
       "</table>\n",
       "</div>"
      ],
      "text/plain": [
       "  InvoiceNo StockCode                         Description  Quantity  \\\n",
       "0    536365    85123A  WHITE HANGING HEART T-LIGHT HOLDER         6   \n",
       "1    536365     71053                 WHITE METAL LANTERN         6   \n",
       "2    536365    84406B      CREAM CUPID HEARTS COAT HANGER         8   \n",
       "\n",
       "          InvoiceDate  UnitPrice CustomerID         Country  TotalPrice  \n",
       "0 2010-12-01 08:26:00       2.55    17850.0  United Kingdom       15.30  \n",
       "1 2010-12-01 08:26:00       3.39    17850.0  United Kingdom       20.34  \n",
       "2 2010-12-01 08:26:00       2.75    17850.0  United Kingdom       22.00  "
      ]
     },
     "execution_count": 31,
     "metadata": {},
     "output_type": "execute_result"
    }
   ],
   "source": [
    "df['TotalPrice'] = df['Quantity'] * df['UnitPrice']\n",
    "print(\"Added TotalPrice column.\")\n",
    "df.head(3)\n"
   ]
  },
  {
   "cell_type": "code",
   "execution_count": 32,
   "execution_state": "idle",
   "id": "13b21b13-bb23-4c9c-88b8-379206ebb70b",
   "metadata": {
    "execution": {
     "iopub.execute_input": "2025-10-04T23:03:20.035967Z",
     "iopub.status.busy": "2025-10-04T23:03:20.035685Z",
     "iopub.status.idle": "2025-10-04T23:03:20.045177Z",
     "shell.execute_reply": "2025-10-04T23:03:20.044314Z",
     "shell.execute_reply.started": "2025-10-04T23:03:20.035947Z"
    }
   },
   "outputs": [
    {
     "name": "stdout",
     "output_type": "stream",
     "text": [
      "Snapshot date: 2011-12-10 12:50:00\n"
     ]
    }
   ],
   "source": [
    "import datetime as dt\n",
    "\n",
    "snapshot_date = df['InvoiceDate'].max() + dt.timedelta(days=1)\n",
    "print(\"Snapshot date:\", snapshot_date)\n"
   ]
  },
  {
   "cell_type": "code",
   "execution_count": 33,
   "execution_state": "idle",
   "id": "8989bb30-ae9a-4b48-a1c6-06d64a6223f9",
   "metadata": {
    "execution": {
     "iopub.execute_input": "2025-10-04T23:03:29.144256Z",
     "iopub.status.busy": "2025-10-04T23:03:29.143961Z",
     "iopub.status.idle": "2025-10-04T23:03:29.616349Z",
     "shell.execute_reply": "2025-10-04T23:03:29.615266Z",
     "shell.execute_reply.started": "2025-10-04T23:03:29.144231Z"
    }
   },
   "outputs": [
    {
     "data": {
      "text/html": [
       "<div>\n",
       "<style scoped>\n",
       "    .dataframe tbody tr th:only-of-type {\n",
       "        vertical-align: middle;\n",
       "    }\n",
       "\n",
       "    .dataframe tbody tr th {\n",
       "        vertical-align: top;\n",
       "    }\n",
       "\n",
       "    .dataframe thead th {\n",
       "        text-align: right;\n",
       "    }\n",
       "</style>\n",
       "<table border=\"1\" class=\"dataframe\">\n",
       "  <thead>\n",
       "    <tr style=\"text-align: right;\">\n",
       "      <th></th>\n",
       "      <th>Recency</th>\n",
       "      <th>Frequency</th>\n",
       "      <th>Monetary</th>\n",
       "    </tr>\n",
       "    <tr>\n",
       "      <th>CustomerID</th>\n",
       "      <th></th>\n",
       "      <th></th>\n",
       "      <th></th>\n",
       "    </tr>\n",
       "  </thead>\n",
       "  <tbody>\n",
       "    <tr>\n",
       "      <th>12346.0</th>\n",
       "      <td>326</td>\n",
       "      <td>1</td>\n",
       "      <td>77183.60</td>\n",
       "    </tr>\n",
       "    <tr>\n",
       "      <th>12347.0</th>\n",
       "      <td>2</td>\n",
       "      <td>7</td>\n",
       "      <td>4310.00</td>\n",
       "    </tr>\n",
       "    <tr>\n",
       "      <th>12348.0</th>\n",
       "      <td>75</td>\n",
       "      <td>4</td>\n",
       "      <td>1797.24</td>\n",
       "    </tr>\n",
       "    <tr>\n",
       "      <th>12349.0</th>\n",
       "      <td>19</td>\n",
       "      <td>1</td>\n",
       "      <td>1757.55</td>\n",
       "    </tr>\n",
       "    <tr>\n",
       "      <th>12350.0</th>\n",
       "      <td>310</td>\n",
       "      <td>1</td>\n",
       "      <td>334.40</td>\n",
       "    </tr>\n",
       "  </tbody>\n",
       "</table>\n",
       "</div>"
      ],
      "text/plain": [
       "            Recency  Frequency  Monetary\n",
       "CustomerID                              \n",
       "12346.0         326          1  77183.60\n",
       "12347.0           2          7   4310.00\n",
       "12348.0          75          4   1797.24\n",
       "12349.0          19          1   1757.55\n",
       "12350.0         310          1    334.40"
      ]
     },
     "execution_count": 33,
     "metadata": {},
     "output_type": "execute_result"
    }
   ],
   "source": [
    "rfm = df.groupby('CustomerID').agg({\n",
    "    'InvoiceDate': lambda x: (snapshot_date - x.max()).days,  # Recency\n",
    "    'InvoiceNo': 'nunique',                                  # Frequency\n",
    "    'TotalPrice': 'sum'                                      # Monetary\n",
    "})\n",
    "\n",
    "rfm.rename(columns={\n",
    "    'InvoiceDate': 'Recency',\n",
    "    'InvoiceNo': 'Frequency',\n",
    "    'TotalPrice': 'Monetary'\n",
    "}, inplace=True)\n",
    "\n",
    "rfm.head()\n"
   ]
  },
  {
   "cell_type": "code",
   "execution_count": 34,
   "execution_state": "idle",
   "id": "937b173c-14cb-4f24-9aff-4153ef456d20",
   "metadata": {
    "execution": {
     "iopub.execute_input": "2025-10-04T23:04:00.620361Z",
     "iopub.status.busy": "2025-10-04T23:04:00.619969Z",
     "iopub.status.idle": "2025-10-04T23:04:00.641700Z",
     "shell.execute_reply": "2025-10-04T23:04:00.640622Z",
     "shell.execute_reply.started": "2025-10-04T23:04:00.620312Z"
    }
   },
   "outputs": [
    {
     "data": {
      "text/html": [
       "<div>\n",
       "<style scoped>\n",
       "    .dataframe tbody tr th:only-of-type {\n",
       "        vertical-align: middle;\n",
       "    }\n",
       "\n",
       "    .dataframe tbody tr th {\n",
       "        vertical-align: top;\n",
       "    }\n",
       "\n",
       "    .dataframe thead th {\n",
       "        text-align: right;\n",
       "    }\n",
       "</style>\n",
       "<table border=\"1\" class=\"dataframe\">\n",
       "  <thead>\n",
       "    <tr style=\"text-align: right;\">\n",
       "      <th></th>\n",
       "      <th>Recency</th>\n",
       "      <th>Frequency</th>\n",
       "      <th>Monetary</th>\n",
       "    </tr>\n",
       "  </thead>\n",
       "  <tbody>\n",
       "    <tr>\n",
       "      <th>count</th>\n",
       "      <td>4338.000000</td>\n",
       "      <td>4338.000000</td>\n",
       "      <td>4338.000000</td>\n",
       "    </tr>\n",
       "    <tr>\n",
       "      <th>mean</th>\n",
       "      <td>92.536422</td>\n",
       "      <td>4.272015</td>\n",
       "      <td>2054.266460</td>\n",
       "    </tr>\n",
       "    <tr>\n",
       "      <th>std</th>\n",
       "      <td>100.014169</td>\n",
       "      <td>7.697998</td>\n",
       "      <td>8989.230441</td>\n",
       "    </tr>\n",
       "    <tr>\n",
       "      <th>min</th>\n",
       "      <td>1.000000</td>\n",
       "      <td>1.000000</td>\n",
       "      <td>3.750000</td>\n",
       "    </tr>\n",
       "    <tr>\n",
       "      <th>25%</th>\n",
       "      <td>18.000000</td>\n",
       "      <td>1.000000</td>\n",
       "      <td>307.415000</td>\n",
       "    </tr>\n",
       "    <tr>\n",
       "      <th>50%</th>\n",
       "      <td>51.000000</td>\n",
       "      <td>2.000000</td>\n",
       "      <td>674.485000</td>\n",
       "    </tr>\n",
       "    <tr>\n",
       "      <th>75%</th>\n",
       "      <td>142.000000</td>\n",
       "      <td>5.000000</td>\n",
       "      <td>1661.740000</td>\n",
       "    </tr>\n",
       "    <tr>\n",
       "      <th>max</th>\n",
       "      <td>374.000000</td>\n",
       "      <td>209.000000</td>\n",
       "      <td>280206.020000</td>\n",
       "    </tr>\n",
       "  </tbody>\n",
       "</table>\n",
       "</div>"
      ],
      "text/plain": [
       "           Recency    Frequency       Monetary\n",
       "count  4338.000000  4338.000000    4338.000000\n",
       "mean     92.536422     4.272015    2054.266460\n",
       "std     100.014169     7.697998    8989.230441\n",
       "min       1.000000     1.000000       3.750000\n",
       "25%      18.000000     1.000000     307.415000\n",
       "50%      51.000000     2.000000     674.485000\n",
       "75%     142.000000     5.000000    1661.740000\n",
       "max     374.000000   209.000000  280206.020000"
      ]
     },
     "execution_count": 34,
     "metadata": {},
     "output_type": "execute_result"
    }
   ],
   "source": [
    "rfm.describe()\n"
   ]
  },
  {
   "cell_type": "code",
   "execution_count": 35,
   "execution_state": "idle",
   "id": "6890cb90-866f-4d0e-a45b-7f847bcb8079",
   "metadata": {
    "execution": {
     "iopub.execute_input": "2025-10-04T23:04:35.534824Z",
     "iopub.status.busy": "2025-10-04T23:04:35.534558Z",
     "iopub.status.idle": "2025-10-04T23:04:37.756971Z",
     "shell.execute_reply": "2025-10-04T23:04:37.755568Z",
     "shell.execute_reply.started": "2025-10-04T23:04:35.534805Z"
    }
   },
   "outputs": [
    {
     "data": {
      "image/png": "[encoded data removed]",
      "text/plain": [
       "<Figure size 1200x400 with 3 Axes>"
      ]
     },
     "metadata": {},
     "output_type": "display_data"
    }
   ],
   "source": [
    "import seaborn as sns\n",
    "import matplotlib.pyplot as plt\n",
    "\n",
    "plt.figure(figsize=(12,4))\n",
    "\n",
    "for i, col in enumerate(['Recency', 'Frequency', 'Monetary']):\n",
    "    plt.subplot(1, 3, i+1)\n",
    "    sns.histplot(rfm[col], bins=30, kde=True)\n",
    "    plt.title(f'{col} Distribution')\n",
    "\n",
    "plt.tight_layout()\n",
    "plt.show()\n"
   ]
  },
  {
   "cell_type": "code",
   "execution_count": 36,
   "execution_state": "idle",
   "id": "4c97ec36-e0a8-430a-921d-3581c49529c3",
   "metadata": {
    "execution": {
     "iopub.execute_input": "2025-10-04T23:07:55.742750Z",
     "iopub.status.busy": "2025-10-04T23:07:55.741980Z",
     "iopub.status.idle": "2025-10-04T23:07:55.761788Z",
     "shell.execute_reply": "2025-10-04T23:07:55.759611Z",
     "shell.execute_reply.started": "2025-10-04T23:07:55.742714Z"
    }
   },
   "outputs": [
    {
     "data": {
      "text/html": [
       "<div>\n",
       "<style scoped>\n",
       "    .dataframe tbody tr th:only-of-type {\n",
       "        vertical-align: middle;\n",
       "    }\n",
       "\n",
       "    .dataframe tbody tr th {\n",
       "        vertical-align: top;\n",
       "    }\n",
       "\n",
       "    .dataframe thead th {\n",
       "        text-align: right;\n",
       "    }\n",
       "</style>\n",
       "<table border=\"1\" class=\"dataframe\">\n",
       "  <thead>\n",
       "    <tr style=\"text-align: right;\">\n",
       "      <th></th>\n",
       "      <th>Recency_log</th>\n",
       "      <th>Frequency_log</th>\n",
       "      <th>Monetary_log</th>\n",
       "    </tr>\n",
       "    <tr>\n",
       "      <th>CustomerID</th>\n",
       "      <th></th>\n",
       "      <th></th>\n",
       "      <th></th>\n",
       "    </tr>\n",
       "  </thead>\n",
       "  <tbody>\n",
       "    <tr>\n",
       "      <th>12346.0</th>\n",
       "      <td>5.789960</td>\n",
       "      <td>0.693147</td>\n",
       "      <td>11.253955</td>\n",
       "    </tr>\n",
       "    <tr>\n",
       "      <th>12347.0</th>\n",
       "      <td>1.098612</td>\n",
       "      <td>2.079442</td>\n",
       "      <td>8.368925</td>\n",
       "    </tr>\n",
       "    <tr>\n",
       "      <th>12348.0</th>\n",
       "      <td>4.330733</td>\n",
       "      <td>1.609438</td>\n",
       "      <td>7.494564</td>\n",
       "    </tr>\n",
       "    <tr>\n",
       "      <th>12349.0</th>\n",
       "      <td>2.995732</td>\n",
       "      <td>0.693147</td>\n",
       "      <td>7.472245</td>\n",
       "    </tr>\n",
       "    <tr>\n",
       "      <th>12350.0</th>\n",
       "      <td>5.739793</td>\n",
       "      <td>0.693147</td>\n",
       "      <td>5.815324</td>\n",
       "    </tr>\n",
       "  </tbody>\n",
       "</table>\n",
       "</div>"
      ],
      "text/plain": [
       "            Recency_log  Frequency_log  Monetary_log\n",
       "CustomerID                                          \n",
       "12346.0        5.789960       0.693147     11.253955\n",
       "12347.0        1.098612       2.079442      8.368925\n",
       "12348.0        4.330733       1.609438      7.494564\n",
       "12349.0        2.995732       0.693147      7.472245\n",
       "12350.0        5.739793       0.693147      5.815324"
      ]
     },
     "execution_count": 36,
     "metadata": {},
     "output_type": "execute_result"
    }
   ],
   "source": [
    "import numpy as np\n",
    "\n",
    "rfm_log = rfm.copy()\n",
    "rfm_log['Recency_log']   = np.log1p(rfm['Recency'])\n",
    "rfm_log['Frequency_log'] = np.log1p(rfm['Frequency'])\n",
    "rfm_log['Monetary_log']  = np.log1p(rfm['Monetary'])\n",
    "\n",
    "rfm_log = rfm_log[['Recency_log', 'Frequency_log', 'Monetary_log']]\n",
    "rfm_log.head()\n"
   ]
  },
  {
   "cell_type": "code",
   "execution_count": 38,
   "execution_state": "idle",
   "id": "35bc8708-1c6a-4710-88cd-c5a468a65e7a",
   "metadata": {
    "execution": {
     "iopub.execute_input": "2025-10-04T23:08:14.472568Z",
     "iopub.status.busy": "2025-10-04T23:08:14.472186Z",
     "iopub.status.idle": "2025-10-04T23:08:14.489591Z",
     "shell.execute_reply": "2025-10-04T23:08:14.488510Z",
     "shell.execute_reply.started": "2025-10-04T23:08:14.472534Z"
    }
   },
   "outputs": [
    {
     "name": "stdout",
     "output_type": "stream",
     "text": [
      "Data standardized successfully.\n"
     ]
    },
    {
     "data": {
      "text/html": [
       "<div>\n",
       "<style scoped>\n",
       "    .dataframe tbody tr th:only-of-type {\n",
       "        vertical-align: middle;\n",
       "    }\n",
       "\n",
       "    .dataframe tbody tr th {\n",
       "        vertical-align: top;\n",
       "    }\n",
       "\n",
       "    .dataframe thead th {\n",
       "        text-align: right;\n",
       "    }\n",
       "</style>\n",
       "<table border=\"1\" class=\"dataframe\">\n",
       "  <thead>\n",
       "    <tr style=\"text-align: right;\">\n",
       "      <th></th>\n",
       "      <th>Recency_log</th>\n",
       "      <th>Frequency_log</th>\n",
       "      <th>Monetary_log</th>\n",
       "    </tr>\n",
       "    <tr>\n",
       "      <th>CustomerID</th>\n",
       "      <th></th>\n",
       "      <th></th>\n",
       "      <th></th>\n",
       "    </tr>\n",
       "  </thead>\n",
       "  <tbody>\n",
       "    <tr>\n",
       "      <th>12346.0</th>\n",
       "      <td>1.461993</td>\n",
       "      <td>-0.955214</td>\n",
       "      <td>3.706225</td>\n",
       "    </tr>\n",
       "    <tr>\n",
       "      <th>12347.0</th>\n",
       "      <td>-2.038734</td>\n",
       "      <td>1.074425</td>\n",
       "      <td>1.411843</td>\n",
       "    </tr>\n",
       "    <tr>\n",
       "      <th>12348.0</th>\n",
       "      <td>0.373104</td>\n",
       "      <td>0.386304</td>\n",
       "      <td>0.716489</td>\n",
       "    </tr>\n",
       "    <tr>\n",
       "      <th>12349.0</th>\n",
       "      <td>-0.623086</td>\n",
       "      <td>-0.955214</td>\n",
       "      <td>0.698739</td>\n",
       "    </tr>\n",
       "    <tr>\n",
       "      <th>12350.0</th>\n",
       "      <td>1.424558</td>\n",
       "      <td>-0.955214</td>\n",
       "      <td>-0.618962</td>\n",
       "    </tr>\n",
       "  </tbody>\n",
       "</table>\n",
       "</div>"
      ],
      "text/plain": [
       "            Recency_log  Frequency_log  Monetary_log\n",
       "CustomerID                                          \n",
       "12346.0        1.461993      -0.955214      3.706225\n",
       "12347.0       -2.038734       1.074425      1.411843\n",
       "12348.0        0.373104       0.386304      0.716489\n",
       "12349.0       -0.623086      -0.955214      0.698739\n",
       "12350.0        1.424558      -0.955214     -0.618962"
      ]
     },
     "execution_count": 38,
     "metadata": {},
     "output_type": "execute_result"
    }
   ],
   "source": [
    "from sklearn.preprocessing import StandardScaler\n",
    "\n",
    "scaler = StandardScaler()\n",
    "rfm_scaled = scaler.fit_transform(rfm_log)\n",
    "\n",
    "import pandas as pd\n",
    "rfm_scaled = pd.DataFrame(rfm_scaled,\n",
    "                          index=rfm_log.index,\n",
    "                          columns=rfm_log.columns)\n",
    "\n",
    "print(\"Data standardized successfully.\")\n",
    "rfm_scaled.head()\n"
   ]
  },
  {
   "cell_type": "code",
   "execution_count": 39,
   "execution_state": "idle",
   "id": "f704d4f9-5054-4d3f-89a6-c2b347101494",
   "metadata": {
    "execution": {
     "iopub.execute_input": "2025-10-04T23:08:29.060013Z",
     "iopub.status.busy": "2025-10-04T23:08:29.059693Z",
     "iopub.status.idle": "2025-10-04T23:08:29.663162Z",
     "shell.execute_reply": "2025-10-04T23:08:29.661727Z",
     "shell.execute_reply.started": "2025-10-04T23:08:29.059994Z"
    }
   },
   "outputs": [
    {
     "data": {
      "image/png": "[encoded data removed]",
      "text/plain": [
       "<Figure size 1200x400 with 3 Axes>"
      ]
     },
     "metadata": {},
     "output_type": "display_data"
    }
   ],
   "source": [
    "import seaborn as sns\n",
    "import matplotlib.pyplot as plt\n",
    "\n",
    "plt.figure(figsize=(12,4))\n",
    "for i, col in enumerate(rfm_scaled.columns):\n",
    "    plt.subplot(1,3,i+1)\n",
    "    sns.histplot(rfm_scaled[col], bins=30, kde=True)\n",
    "    plt.title(f'{col} (Scaled)')\n",
    "plt.tight_layout()\n",
    "plt.show()\n"
   ]
  }
 ],
 "metadata": {
  "kernelspec": {
   "display_name": "Python 3 (ipykernel)",
   "language": "python",
   "name": "python3"
  },
  "language_info": {
   "codemirror_mode": {
    "name": "ipython",
    "version": 3
   },
   "file_extension": ".py",
   "mimetype": "text/x-python",
   "name": "python",
   "nbconvert_exporter": "python",
   "pygments_lexer": "ipython3",
   "version": "3.11.11"
  }
 },
 "nbformat": 4,
 "nbformat_minor": 5
}
